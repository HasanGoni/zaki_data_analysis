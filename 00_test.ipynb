{
 "cells": [
  {
   "cell_type": "code",
   "execution_count": 5,
   "metadata": {},
   "outputs": [],
   "source": [
    "%load_ext autoreload\n",
    "%autoreload 2"
   ]
  },
  {
   "cell_type": "code",
   "execution_count": 6,
   "metadata": {},
   "outputs": [],
   "source": [
    "import pandas as pd\n",
    "from sodapy import Socrata"
   ]
  },
  {
   "cell_type": "code",
   "execution_count": 7,
   "metadata": {},
   "outputs": [
    {
     "name": "stderr",
     "output_type": "stream",
     "text": [
      "WARNING:root:Requests made without an app_token will be subject to strict throttling limits.\n"
     ]
    }
   ],
   "source": [
    "client = Socrata(\"data.sfgov.org\", None)"
   ]
  },
  {
   "cell_type": "code",
   "execution_count": 8,
   "metadata": {},
   "outputs": [],
   "source": [
    "# dictionaries by sodapy.\n",
    "results = client.get(\"nuek-vuh3\", limit=2000)"
   ]
  },
  {
   "cell_type": "code",
   "execution_count": 9,
   "metadata": {},
   "outputs": [],
   "source": [
    "# Convert to pandas DataFrame\n",
    "results_df = pd.DataFrame.from_records(results)"
   ]
  },
  {
   "cell_type": "code",
   "execution_count": 10,
   "metadata": {},
   "outputs": [
    {
     "data": {
      "text/html": [
       "<div>\n",
       "<style scoped>\n",
       "    .dataframe tbody tr th:only-of-type {\n",
       "        vertical-align: middle;\n",
       "    }\n",
       "\n",
       "    .dataframe tbody tr th {\n",
       "        vertical-align: top;\n",
       "    }\n",
       "\n",
       "    .dataframe thead th {\n",
       "        text-align: right;\n",
       "    }\n",
       "</style>\n",
       "<table border=\"1\" class=\"dataframe\">\n",
       "  <thead>\n",
       "    <tr style=\"text-align: right;\">\n",
       "      <th></th>\n",
       "      <th>call_number</th>\n",
       "      <th>unit_id</th>\n",
       "      <th>incident_number</th>\n",
       "      <th>call_type</th>\n",
       "      <th>call_date</th>\n",
       "      <th>watch_date</th>\n",
       "      <th>received_dttm</th>\n",
       "      <th>entry_dttm</th>\n",
       "      <th>dispatch_dttm</th>\n",
       "      <th>call_final_disposition</th>\n",
       "      <th>...</th>\n",
       "      <th>case_location</th>\n",
       "      <th>data_as_of</th>\n",
       "      <th>data_loaded_at</th>\n",
       "      <th>:@computed_region_ajp5_b2md</th>\n",
       "      <th>response_dttm</th>\n",
       "      <th>on_scene_dttm</th>\n",
       "      <th>available_dttm</th>\n",
       "      <th>hospital_dttm</th>\n",
       "      <th>call_type_group</th>\n",
       "      <th>transport_dttm</th>\n",
       "    </tr>\n",
       "  </thead>\n",
       "  <tbody>\n",
       "    <tr>\n",
       "      <th>0</th>\n",
       "      <td>063520271</td>\n",
       "      <td>71</td>\n",
       "      <td>06099527</td>\n",
       "      <td>Medical Incident</td>\n",
       "      <td>2006-12-18T00:00:00.000</td>\n",
       "      <td>2006-12-18T00:00:00.000</td>\n",
       "      <td>2006-12-18T16:30:48.000</td>\n",
       "      <td>2006-12-18T16:32:45.000</td>\n",
       "      <td>2006-12-18T16:33:06.000</td>\n",
       "      <td>Other</td>\n",
       "      <td>...</td>\n",
       "      <td>{'type': 'Point', 'coordinates': [-122.4158, 3...</td>\n",
       "      <td>2024-02-05T03:27:52.000</td>\n",
       "      <td>2024-02-05T10:56:25.000</td>\n",
       "      <td>23</td>\n",
       "      <td>NaN</td>\n",
       "      <td>NaN</td>\n",
       "      <td>NaN</td>\n",
       "      <td>NaN</td>\n",
       "      <td>NaN</td>\n",
       "      <td>NaN</td>\n",
       "    </tr>\n",
       "    <tr>\n",
       "      <th>1</th>\n",
       "      <td>063530078</td>\n",
       "      <td>E36</td>\n",
       "      <td>06099669</td>\n",
       "      <td>Alarms</td>\n",
       "      <td>2006-12-19T00:00:00.000</td>\n",
       "      <td>2006-12-19T00:00:00.000</td>\n",
       "      <td>2006-12-19T08:39:29.000</td>\n",
       "      <td>2006-12-19T08:40:48.000</td>\n",
       "      <td>2006-12-19T08:40:54.000</td>\n",
       "      <td>Other</td>\n",
       "      <td>...</td>\n",
       "      <td>{'type': 'Point', 'coordinates': [-122.42636, ...</td>\n",
       "      <td>2024-02-05T03:27:52.000</td>\n",
       "      <td>2024-02-05T10:56:25.000</td>\n",
       "      <td>9</td>\n",
       "      <td>2006-12-19T08:42:32.000</td>\n",
       "      <td>2006-12-19T08:44:52.000</td>\n",
       "      <td>2006-12-19T08:56:48.000</td>\n",
       "      <td>NaN</td>\n",
       "      <td>NaN</td>\n",
       "      <td>NaN</td>\n",
       "    </tr>\n",
       "    <tr>\n",
       "      <th>2</th>\n",
       "      <td>063530311</td>\n",
       "      <td>M13</td>\n",
       "      <td>06099836</td>\n",
       "      <td>Medical Incident</td>\n",
       "      <td>2006-12-19T00:00:00.000</td>\n",
       "      <td>2006-12-19T00:00:00.000</td>\n",
       "      <td>2006-12-19T19:49:26.000</td>\n",
       "      <td>2006-12-19T19:52:04.000</td>\n",
       "      <td>2006-12-19T19:52:22.000</td>\n",
       "      <td>Other</td>\n",
       "      <td>...</td>\n",
       "      <td>{'type': 'Point', 'coordinates': [-122.37266, ...</td>\n",
       "      <td>2024-02-05T03:27:52.000</td>\n",
       "      <td>2024-02-05T10:56:25.000</td>\n",
       "      <td>37</td>\n",
       "      <td>NaN</td>\n",
       "      <td>NaN</td>\n",
       "      <td>2006-12-19T19:54:02.000</td>\n",
       "      <td>NaN</td>\n",
       "      <td>NaN</td>\n",
       "      <td>NaN</td>\n",
       "    </tr>\n",
       "    <tr>\n",
       "      <th>3</th>\n",
       "      <td>063540281</td>\n",
       "      <td>T10</td>\n",
       "      <td>06100040</td>\n",
       "      <td>Alarms</td>\n",
       "      <td>2006-12-20T00:00:00.000</td>\n",
       "      <td>2006-12-20T00:00:00.000</td>\n",
       "      <td>2006-12-20T16:06:01.000</td>\n",
       "      <td>2006-12-20T16:07:03.000</td>\n",
       "      <td>2006-12-20T16:07:16.000</td>\n",
       "      <td>Other</td>\n",
       "      <td>...</td>\n",
       "      <td>{'type': 'Point', 'coordinates': [-122.44015, ...</td>\n",
       "      <td>2024-02-05T03:27:52.000</td>\n",
       "      <td>2024-02-05T10:56:25.000</td>\n",
       "      <td>15</td>\n",
       "      <td>NaN</td>\n",
       "      <td>NaN</td>\n",
       "      <td>2006-12-20T16:08:35.000</td>\n",
       "      <td>NaN</td>\n",
       "      <td>NaN</td>\n",
       "      <td>NaN</td>\n",
       "    </tr>\n",
       "    <tr>\n",
       "      <th>4</th>\n",
       "      <td>063560404</td>\n",
       "      <td>E35</td>\n",
       "      <td>06100734</td>\n",
       "      <td>Alarms</td>\n",
       "      <td>2006-12-22T00:00:00.000</td>\n",
       "      <td>2006-12-22T00:00:00.000</td>\n",
       "      <td>2006-12-22T23:14:14.000</td>\n",
       "      <td>2006-12-22T23:17:02.000</td>\n",
       "      <td>2006-12-22T23:18:08.000</td>\n",
       "      <td>Other</td>\n",
       "      <td>...</td>\n",
       "      <td>{'type': 'Point', 'coordinates': [-122.407486,...</td>\n",
       "      <td>2024-02-05T03:27:52.000</td>\n",
       "      <td>2024-02-05T10:56:25.000</td>\n",
       "      <td>34</td>\n",
       "      <td>NaN</td>\n",
       "      <td>NaN</td>\n",
       "      <td>2006-12-22T23:20:01.000</td>\n",
       "      <td>NaN</td>\n",
       "      <td>NaN</td>\n",
       "      <td>NaN</td>\n",
       "    </tr>\n",
       "  </tbody>\n",
       "</table>\n",
       "<p>5 rows × 37 columns</p>\n",
       "</div>"
      ],
      "text/plain": [
       "  call_number unit_id incident_number         call_type  \\\n",
       "0   063520271      71        06099527  Medical Incident   \n",
       "1   063530078     E36        06099669            Alarms   \n",
       "2   063530311     M13        06099836  Medical Incident   \n",
       "3   063540281     T10        06100040            Alarms   \n",
       "4   063560404     E35        06100734            Alarms   \n",
       "\n",
       "                 call_date               watch_date            received_dttm  \\\n",
       "0  2006-12-18T00:00:00.000  2006-12-18T00:00:00.000  2006-12-18T16:30:48.000   \n",
       "1  2006-12-19T00:00:00.000  2006-12-19T00:00:00.000  2006-12-19T08:39:29.000   \n",
       "2  2006-12-19T00:00:00.000  2006-12-19T00:00:00.000  2006-12-19T19:49:26.000   \n",
       "3  2006-12-20T00:00:00.000  2006-12-20T00:00:00.000  2006-12-20T16:06:01.000   \n",
       "4  2006-12-22T00:00:00.000  2006-12-22T00:00:00.000  2006-12-22T23:14:14.000   \n",
       "\n",
       "                entry_dttm            dispatch_dttm call_final_disposition  \\\n",
       "0  2006-12-18T16:32:45.000  2006-12-18T16:33:06.000                  Other   \n",
       "1  2006-12-19T08:40:48.000  2006-12-19T08:40:54.000                  Other   \n",
       "2  2006-12-19T19:52:04.000  2006-12-19T19:52:22.000                  Other   \n",
       "3  2006-12-20T16:07:03.000  2006-12-20T16:07:16.000                  Other   \n",
       "4  2006-12-22T23:17:02.000  2006-12-22T23:18:08.000                  Other   \n",
       "\n",
       "   ...                                      case_location  \\\n",
       "0  ...  {'type': 'Point', 'coordinates': [-122.4158, 3...   \n",
       "1  ...  {'type': 'Point', 'coordinates': [-122.42636, ...   \n",
       "2  ...  {'type': 'Point', 'coordinates': [-122.37266, ...   \n",
       "3  ...  {'type': 'Point', 'coordinates': [-122.44015, ...   \n",
       "4  ...  {'type': 'Point', 'coordinates': [-122.407486,...   \n",
       "\n",
       "                data_as_of           data_loaded_at  \\\n",
       "0  2024-02-05T03:27:52.000  2024-02-05T10:56:25.000   \n",
       "1  2024-02-05T03:27:52.000  2024-02-05T10:56:25.000   \n",
       "2  2024-02-05T03:27:52.000  2024-02-05T10:56:25.000   \n",
       "3  2024-02-05T03:27:52.000  2024-02-05T10:56:25.000   \n",
       "4  2024-02-05T03:27:52.000  2024-02-05T10:56:25.000   \n",
       "\n",
       "  :@computed_region_ajp5_b2md            response_dttm  \\\n",
       "0                          23                      NaN   \n",
       "1                           9  2006-12-19T08:42:32.000   \n",
       "2                          37                      NaN   \n",
       "3                          15                      NaN   \n",
       "4                          34                      NaN   \n",
       "\n",
       "             on_scene_dttm           available_dttm hospital_dttm  \\\n",
       "0                      NaN                      NaN           NaN   \n",
       "1  2006-12-19T08:44:52.000  2006-12-19T08:56:48.000           NaN   \n",
       "2                      NaN  2006-12-19T19:54:02.000           NaN   \n",
       "3                      NaN  2006-12-20T16:08:35.000           NaN   \n",
       "4                      NaN  2006-12-22T23:20:01.000           NaN   \n",
       "\n",
       "  call_type_group  transport_dttm  \n",
       "0             NaN             NaN  \n",
       "1             NaN             NaN  \n",
       "2             NaN             NaN  \n",
       "3             NaN             NaN  \n",
       "4             NaN             NaN  \n",
       "\n",
       "[5 rows x 37 columns]"
      ]
     },
     "execution_count": 10,
     "metadata": {},
     "output_type": "execute_result"
    }
   ],
   "source": [
    "results_df.head()"
   ]
  },
  {
   "cell_type": "code",
   "execution_count": 11,
   "metadata": {},
   "outputs": [
    {
     "data": {
      "text/plain": [
       "Index(['call_number', 'unit_id', 'incident_number', 'call_type', 'call_date',\n",
       "       'watch_date', 'received_dttm', 'entry_dttm', 'dispatch_dttm',\n",
       "       'call_final_disposition', 'address', 'city', 'zipcode_of_incident',\n",
       "       'battalion', 'station_area', 'box', 'original_priority', 'priority',\n",
       "       'final_priority', 'als_unit', 'number_of_alarms', 'unit_type',\n",
       "       'unit_sequence_in_call_dispatch', 'fire_prevention_district',\n",
       "       'supervisor_district', 'neighborhoods_analysis_boundaries', 'rowid',\n",
       "       'case_location', 'data_as_of', 'data_loaded_at',\n",
       "       ':@computed_region_ajp5_b2md', 'response_dttm', 'on_scene_dttm',\n",
       "       'available_dttm', 'hospital_dttm', 'call_type_group', 'transport_dttm'],\n",
       "      dtype='object')"
      ]
     },
     "execution_count": 11,
     "metadata": {},
     "output_type": "execute_result"
    }
   ],
   "source": [
    "results_df.columns"
   ]
  },
  {
   "cell_type": "markdown",
   "metadata": {},
   "source": [
    "# Data Exploration"
   ]
  },
  {
   "cell_type": "code",
   "execution_count": 12,
   "metadata": {},
   "outputs": [],
   "source": [
    "df=results_df"
   ]
  },
  {
   "cell_type": "code",
   "execution_count": 13,
   "metadata": {},
   "outputs": [
    {
     "name": "stdout",
     "output_type": "stream",
     "text": [
      "<class 'pandas.core.frame.DataFrame'>\n",
      "RangeIndex: 2000 entries, 0 to 1999\n",
      "Data columns (total 37 columns):\n",
      " #   Column                             Non-Null Count  Dtype \n",
      "---  ------                             --------------  ----- \n",
      " 0   call_number                        2000 non-null   object\n",
      " 1   unit_id                            2000 non-null   object\n",
      " 2   incident_number                    2000 non-null   object\n",
      " 3   call_type                          2000 non-null   object\n",
      " 4   call_date                          2000 non-null   object\n",
      " 5   watch_date                         2000 non-null   object\n",
      " 6   received_dttm                      2000 non-null   object\n",
      " 7   entry_dttm                         2000 non-null   object\n",
      " 8   dispatch_dttm                      2000 non-null   object\n",
      " 9   call_final_disposition             2000 non-null   object\n",
      " 10  address                            1957 non-null   object\n",
      " 11  city                               1937 non-null   object\n",
      " 12  zipcode_of_incident                1911 non-null   object\n",
      " 13  battalion                          2000 non-null   object\n",
      " 14  station_area                       1960 non-null   object\n",
      " 15  box                                1960 non-null   object\n",
      " 16  original_priority                  1990 non-null   object\n",
      " 17  priority                           2000 non-null   object\n",
      " 18  final_priority                     2000 non-null   object\n",
      " 19  als_unit                           2000 non-null   bool  \n",
      " 20  number_of_alarms                   2000 non-null   object\n",
      " 21  unit_type                          2000 non-null   object\n",
      " 22  unit_sequence_in_call_dispatch     1999 non-null   object\n",
      " 23  fire_prevention_district           2000 non-null   object\n",
      " 24  supervisor_district                2000 non-null   object\n",
      " 25  neighborhoods_analysis_boundaries  2000 non-null   object\n",
      " 26  rowid                              2000 non-null   object\n",
      " 27  case_location                      1959 non-null   object\n",
      " 28  data_as_of                         2000 non-null   object\n",
      " 29  data_loaded_at                     2000 non-null   object\n",
      " 30  :@computed_region_ajp5_b2md        1911 non-null   object\n",
      " 31  response_dttm                      1599 non-null   object\n",
      " 32  on_scene_dttm                      988 non-null    object\n",
      " 33  available_dttm                     1853 non-null   object\n",
      " 34  hospital_dttm                      4 non-null      object\n",
      " 35  call_type_group                    1442 non-null   object\n",
      " 36  transport_dttm                     4 non-null      object\n",
      "dtypes: bool(1), object(36)\n",
      "memory usage: 564.6+ KB\n"
     ]
    }
   ],
   "source": [
    "df.info()"
   ]
  },
  {
   "cell_type": "markdown",
   "metadata": {},
   "source": [
    "### Searching for data "
   ]
  },
  {
   "cell_type": "code",
   "execution_count": 19,
   "metadata": {},
   "outputs": [
    {
     "data": {
      "text/html": [
       "<div>\n",
       "<style scoped>\n",
       "    .dataframe tbody tr th:only-of-type {\n",
       "        vertical-align: middle;\n",
       "    }\n",
       "\n",
       "    .dataframe tbody tr th {\n",
       "        vertical-align: top;\n",
       "    }\n",
       "\n",
       "    .dataframe thead th {\n",
       "        text-align: right;\n",
       "    }\n",
       "</style>\n",
       "<table border=\"1\" class=\"dataframe\">\n",
       "  <thead>\n",
       "    <tr style=\"text-align: right;\">\n",
       "      <th></th>\n",
       "      <th>call_date</th>\n",
       "      <th>watch_date</th>\n",
       "      <th>received_dttm</th>\n",
       "      <th>entry_dttm</th>\n",
       "      <th>dispatch_dttm</th>\n",
       "      <th>response_dttm</th>\n",
       "      <th>on_scene_dttm</th>\n",
       "      <th>available_dttm</th>\n",
       "      <th>hospital_dttm</th>\n",
       "      <th>transport_dttm</th>\n",
       "    </tr>\n",
       "  </thead>\n",
       "  <tbody>\n",
       "    <tr>\n",
       "      <th>0</th>\n",
       "      <td>2006-12-18T00:00:00.000</td>\n",
       "      <td>2006-12-18T00:00:00.000</td>\n",
       "      <td>2006-12-18T16:30:48.000</td>\n",
       "      <td>2006-12-18T16:32:45.000</td>\n",
       "      <td>2006-12-18T16:33:06.000</td>\n",
       "      <td>NaN</td>\n",
       "      <td>NaN</td>\n",
       "      <td>NaN</td>\n",
       "      <td>NaN</td>\n",
       "      <td>NaN</td>\n",
       "    </tr>\n",
       "    <tr>\n",
       "      <th>1</th>\n",
       "      <td>2006-12-19T00:00:00.000</td>\n",
       "      <td>2006-12-19T00:00:00.000</td>\n",
       "      <td>2006-12-19T08:39:29.000</td>\n",
       "      <td>2006-12-19T08:40:48.000</td>\n",
       "      <td>2006-12-19T08:40:54.000</td>\n",
       "      <td>2006-12-19T08:42:32.000</td>\n",
       "      <td>2006-12-19T08:44:52.000</td>\n",
       "      <td>2006-12-19T08:56:48.000</td>\n",
       "      <td>NaN</td>\n",
       "      <td>NaN</td>\n",
       "    </tr>\n",
       "    <tr>\n",
       "      <th>2</th>\n",
       "      <td>2006-12-19T00:00:00.000</td>\n",
       "      <td>2006-12-19T00:00:00.000</td>\n",
       "      <td>2006-12-19T19:49:26.000</td>\n",
       "      <td>2006-12-19T19:52:04.000</td>\n",
       "      <td>2006-12-19T19:52:22.000</td>\n",
       "      <td>NaN</td>\n",
       "      <td>NaN</td>\n",
       "      <td>2006-12-19T19:54:02.000</td>\n",
       "      <td>NaN</td>\n",
       "      <td>NaN</td>\n",
       "    </tr>\n",
       "    <tr>\n",
       "      <th>3</th>\n",
       "      <td>2006-12-20T00:00:00.000</td>\n",
       "      <td>2006-12-20T00:00:00.000</td>\n",
       "      <td>2006-12-20T16:06:01.000</td>\n",
       "      <td>2006-12-20T16:07:03.000</td>\n",
       "      <td>2006-12-20T16:07:16.000</td>\n",
       "      <td>NaN</td>\n",
       "      <td>NaN</td>\n",
       "      <td>2006-12-20T16:08:35.000</td>\n",
       "      <td>NaN</td>\n",
       "      <td>NaN</td>\n",
       "    </tr>\n",
       "    <tr>\n",
       "      <th>4</th>\n",
       "      <td>2006-12-22T00:00:00.000</td>\n",
       "      <td>2006-12-22T00:00:00.000</td>\n",
       "      <td>2006-12-22T23:14:14.000</td>\n",
       "      <td>2006-12-22T23:17:02.000</td>\n",
       "      <td>2006-12-22T23:18:08.000</td>\n",
       "      <td>NaN</td>\n",
       "      <td>NaN</td>\n",
       "      <td>2006-12-22T23:20:01.000</td>\n",
       "      <td>NaN</td>\n",
       "      <td>NaN</td>\n",
       "    </tr>\n",
       "  </tbody>\n",
       "</table>\n",
       "</div>"
      ],
      "text/plain": [
       "                 call_date               watch_date            received_dttm  \\\n",
       "0  2006-12-18T00:00:00.000  2006-12-18T00:00:00.000  2006-12-18T16:30:48.000   \n",
       "1  2006-12-19T00:00:00.000  2006-12-19T00:00:00.000  2006-12-19T08:39:29.000   \n",
       "2  2006-12-19T00:00:00.000  2006-12-19T00:00:00.000  2006-12-19T19:49:26.000   \n",
       "3  2006-12-20T00:00:00.000  2006-12-20T00:00:00.000  2006-12-20T16:06:01.000   \n",
       "4  2006-12-22T00:00:00.000  2006-12-22T00:00:00.000  2006-12-22T23:14:14.000   \n",
       "\n",
       "                entry_dttm            dispatch_dttm            response_dttm  \\\n",
       "0  2006-12-18T16:32:45.000  2006-12-18T16:33:06.000                      NaN   \n",
       "1  2006-12-19T08:40:48.000  2006-12-19T08:40:54.000  2006-12-19T08:42:32.000   \n",
       "2  2006-12-19T19:52:04.000  2006-12-19T19:52:22.000                      NaN   \n",
       "3  2006-12-20T16:07:03.000  2006-12-20T16:07:16.000                      NaN   \n",
       "4  2006-12-22T23:17:02.000  2006-12-22T23:18:08.000                      NaN   \n",
       "\n",
       "             on_scene_dttm           available_dttm hospital_dttm  \\\n",
       "0                      NaN                      NaN           NaN   \n",
       "1  2006-12-19T08:44:52.000  2006-12-19T08:56:48.000           NaN   \n",
       "2                      NaN  2006-12-19T19:54:02.000           NaN   \n",
       "3                      NaN  2006-12-20T16:08:35.000           NaN   \n",
       "4                      NaN  2006-12-22T23:20:01.000           NaN   \n",
       "\n",
       "  transport_dttm  \n",
       "0            NaN  \n",
       "1            NaN  \n",
       "2            NaN  \n",
       "3            NaN  \n",
       "4            NaN  "
      ]
     },
     "execution_count": 19,
     "metadata": {},
     "output_type": "execute_result"
    }
   ],
   "source": [
    "df.filter(regex='date|dttm').head()"
   ]
  },
  {
   "cell_type": "markdown",
   "metadata": {},
   "source": [
    "- convert this date format to standard format\n",
    "    - may be 'yy-mm-dd hh:mm:ss' format search for NaN - > understand why and convert to a format to work further\n"
   ]
  },
  {
   "cell_type": "code",
   "execution_count": 23,
   "metadata": {},
   "outputs": [
    {
     "data": {
      "text/html": [
       "<div>\n",
       "<style scoped>\n",
       "    .dataframe tbody tr th:only-of-type {\n",
       "        vertical-align: middle;\n",
       "    }\n",
       "\n",
       "    .dataframe tbody tr th {\n",
       "        vertical-align: top;\n",
       "    }\n",
       "\n",
       "    .dataframe thead th {\n",
       "        text-align: right;\n",
       "    }\n",
       "</style>\n",
       "<table border=\"1\" class=\"dataframe\">\n",
       "  <thead>\n",
       "    <tr style=\"text-align: right;\">\n",
       "      <th></th>\n",
       "      <th>call_number</th>\n",
       "      <th>incident_number</th>\n",
       "      <th>number_of_alarms</th>\n",
       "    </tr>\n",
       "  </thead>\n",
       "  <tbody>\n",
       "    <tr>\n",
       "      <th>0</th>\n",
       "      <td>063520271</td>\n",
       "      <td>06099527</td>\n",
       "      <td>1</td>\n",
       "    </tr>\n",
       "    <tr>\n",
       "      <th>1</th>\n",
       "      <td>063530078</td>\n",
       "      <td>06099669</td>\n",
       "      <td>1</td>\n",
       "    </tr>\n",
       "    <tr>\n",
       "      <th>2</th>\n",
       "      <td>063530311</td>\n",
       "      <td>06099836</td>\n",
       "      <td>1</td>\n",
       "    </tr>\n",
       "    <tr>\n",
       "      <th>3</th>\n",
       "      <td>063540281</td>\n",
       "      <td>06100040</td>\n",
       "      <td>1</td>\n",
       "    </tr>\n",
       "    <tr>\n",
       "      <th>4</th>\n",
       "      <td>063560404</td>\n",
       "      <td>06100734</td>\n",
       "      <td>1</td>\n",
       "    </tr>\n",
       "  </tbody>\n",
       "</table>\n",
       "</div>"
      ],
      "text/plain": [
       "  call_number incident_number number_of_alarms\n",
       "0   063520271        06099527                1\n",
       "1   063530078        06099669                1\n",
       "2   063530311        06099836                1\n",
       "3   063540281        06100040                1\n",
       "4   063560404        06100734                1"
      ]
     },
     "execution_count": 23,
     "metadata": {},
     "output_type": "execute_result"
    }
   ],
   "source": [
    "df.filter(like='number').head()"
   ]
  },
  {
   "cell_type": "code",
   "execution_count": null,
   "metadata": {},
   "outputs": [],
   "source": [
    "- Understand what this number means, Make sure both number makes sense\n"
   ]
  },
  {
   "cell_type": "code",
   "execution_count": 25,
   "metadata": {},
   "outputs": [
    {
     "data": {
      "text/plain": [
       "1998"
      ]
     },
     "execution_count": 25,
     "metadata": {},
     "output_type": "execute_result"
    }
   ],
   "source": [
    "len(df['call_number'].unique())"
   ]
  },
  {
   "cell_type": "code",
   "execution_count": 27,
   "metadata": {},
   "outputs": [
    {
     "data": {
      "text/plain": [
       "1998"
      ]
     },
     "execution_count": 27,
     "metadata": {},
     "output_type": "execute_result"
    }
   ],
   "source": [
    "\n",
    "len(df['incident_number'].unique())"
   ]
  },
  {
   "cell_type": "markdown",
   "metadata": {},
   "source": [
    "### Time Series Analysis:\n"
   ]
  },
  {
   "cell_type": "markdown",
   "metadata": {},
   "source": [
    "\n",
    "- Analyze call trends over time (daily, weekly, monthly).\n",
    "  - from time stamp create new column with week name, dayname, month name.\n",
    "  - Create avg, median of week , month, day to see the trend\n",
    "- Identify peak hours for different call types and priorities."
   ]
  },
  {
   "cell_type": "code",
   "execution_count": 31,
   "metadata": {},
   "outputs": [
    {
     "data": {
      "text/plain": [
       "<Axes: xlabel='call_type'>"
      ]
     },
     "execution_count": 31,
     "metadata": {},
     "output_type": "execute_result"
    },
    {
     "data": {
      "image/png": "[encoded data removed]",
      "text/plain": [
       "<Figure size 640x480 with 1 Axes>"
      ]
     },
     "metadata": {},
     "output_type": "display_data"
    }
   ],
   "source": [
    "df['call_type'].value_counts().plot(kind='bar')"
   ]
  },
  {
   "cell_type": "markdown",
   "metadata": {},
   "source": [
    "## Operational and Performance Analysis:"
   ]
  },
  {
   "cell_type": "code",
   "execution_count": 33,
   "metadata": {},
   "outputs": [
    {
     "data": {
      "text/plain": [
       "Index(['call_number', 'unit_id', 'incident_number', 'call_type', 'call_date',\n",
       "       'watch_date', 'received_dttm', 'entry_dttm', 'dispatch_dttm',\n",
       "       'call_final_disposition', 'address', 'city', 'zipcode_of_incident',\n",
       "       'battalion', 'station_area', 'box', 'original_priority', 'priority',\n",
       "       'final_priority', 'als_unit', 'number_of_alarms', 'unit_type',\n",
       "       'unit_sequence_in_call_dispatch', 'fire_prevention_district',\n",
       "       'supervisor_district', 'neighborhoods_analysis_boundaries', 'rowid',\n",
       "       'case_location', 'data_as_of', 'data_loaded_at',\n",
       "       ':@computed_region_ajp5_b2md', 'response_dttm', 'on_scene_dttm',\n",
       "       'available_dttm', 'hospital_dttm', 'call_type_group', 'transport_dttm'],\n",
       "      dtype='object')"
      ]
     },
     "execution_count": 33,
     "metadata": {},
     "output_type": "execute_result"
    }
   ],
   "source": [
    "df.columns"
   ]
  },
  {
   "cell_type": "code",
   "execution_count": 39,
   "metadata": {},
   "outputs": [
    {
     "data": {
      "text/plain": [
       "count                         1599\n",
       "mean     0 days 00:03:42.025015634\n",
       "std      0 days 00:05:22.500674776\n",
       "min                0 days 00:00:00\n",
       "25%                0 days 00:02:30\n",
       "50%                0 days 00:03:16\n",
       "75%                0 days 00:04:10\n",
       "max                0 days 03:00:56\n",
       "Name: response_time, dtype: object"
      ]
     },
     "execution_count": 39,
     "metadata": {},
     "output_type": "execute_result"
    }
   ],
   "source": [
    "df['response_time'] = pd.to_datetime(df['response_dttm']) - pd.to_datetime(df['received_dttm'])\n",
    "df['response_time'].describe()\n",
    "\n"
   ]
  },
  {
   "cell_type": "markdown",
   "metadata": {},
   "source": [
    "## Call Volume Analysis:\n",
    "- Analyze the volume of calls by Call Type, Call Type Group, Priority, and Neighborhood District.\n",
    "- Identify areas with the highest frequency of calls and the most common types of incidents.\n"
   ]
  },
  {
   "cell_type": "markdown",
   "metadata": {},
   "source": [
    "## Resource Allocation:"
   ]
  },
  {
   "cell_type": "markdown",
   "metadata": {},
   "source": [
    "\n",
    "- Examine the allocation of units to incidents and the sequence of dispatch.\n",
    "\n",
    "- Analyze the utilization of different unit types (e.g., ALS units, Engine, Truck)."
   ]
  },
  {
   "cell_type": "markdown",
   "metadata": {},
   "source": [
    "## 4. Performance Evaluation\n"
   ]
  },
  {
   "cell_type": "markdown",
   "metadata": {},
   "source": [
    "#### Response Efficiency:\n"
   ]
  },
  {
   "cell_type": "markdown",
   "metadata": {},
   "source": [
    "\n",
    "- Evaluate the response times against the expected or standard response times.\n",
    "- Compare the performance of different units and stations.\n"
   ]
  },
  {
   "cell_type": "markdown",
   "metadata": {},
   "source": [
    "## Outcome Analysis:\n"
   ]
  },
  {
   "cell_type": "markdown",
   "metadata": {},
   "source": [
    "\n",
    "- Analyze the Call Final Disposition to evaluate the effectiveness of the response.\n",
    "- Identify patterns in the final disposition of calls based on call type and priority."
   ]
  },
  {
   "cell_type": "markdown",
   "metadata": {},
   "source": [
    "5. Data Visualization\n",
    "Trends and Patterns:\n",
    "Time series plots for call volumes and response times.\n",
    "Heatmaps to show the geographic distribution of incidents.\n",
    "Response Time Analysis:\n",
    "Box plots to compare response times across different call types and priorities.\n",
    "Histograms to show the distribution of response times.\n",
    "Operational Metrics:\n",
    "Bar charts to display the frequency of different call types and outcomes.\n",
    "Pie charts to show the proportion of calls by priority and unit type.\n",
    "6. Reporting and Recommendations\n",
    "Summary Report:\n",
    "Summarize the key findings from the analysis.\n",
    "Provide visualizations to support your conclusions.\n",
    "Recommendations:\n",
    "Based on the analysis, provide recommendations for improving response times, resource allocation, and overall operational efficiency."
   ]
  },
  {
   "cell_type": "code",
   "execution_count": null,
   "metadata": {},
   "outputs": [],
   "source": []
  },
  {
   "cell_type": "code",
   "execution_count": null,
   "metadata": {},
   "outputs": [],
   "source": []
  },
  {
   "cell_type": "code",
   "execution_count": null,
   "metadata": {},
   "outputs": [],
   "source": []
  },
  {
   "cell_type": "code",
   "execution_count": null,
   "metadata": {},
   "outputs": [],
   "source": []
  }
 ],
 "metadata": {
  "kernelspec": {
   "display_name": "base",
   "language": "python",
   "name": "python3"
  },
  "language_info": {
   "codemirror_mode": {
    "name": "ipython",
    "version": 3
   },
   "file_extension": ".py",
   "mimetype": "text/x-python",
   "name": "python",
   "nbconvert_exporter": "python",
   "pygments_lexer": "ipython3",
   "version": "3.11.5"
  }
 },
 "nbformat": 4,
 "nbformat_minor": 2
}
